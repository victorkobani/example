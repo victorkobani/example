{
  "nbformat": 4,
  "nbformat_minor": 0,
  "metadata": {
    "colab": {
      "provenance": [],
      "gpuType": "T4",
      "authorship_tag": "ABX9TyPysT6TQELAOetbS2RrBgIx",
      "include_colab_link": true
    },
    "kernelspec": {
      "name": "python3",
      "display_name": "Python 3"
    },
    "language_info": {
      "name": "python"
    },
    "accelerator": "GPU"
  },
  "cells": [
    {
      "cell_type": "markdown",
      "metadata": {
        "id": "view-in-github",
        "colab_type": "text"
      },
      "source": [
        "<a href=\"https://colab.research.google.com/github/victorkobani/example/blob/master/Lunar_Lander_Environment.ipynb\" target=\"_parent\"><img src=\"https://colab.research.google.com/assets/colab-badge.svg\" alt=\"Open In Colab\"/></a>"
      ]
    },
    {
      "cell_type": "markdown",
      "source": [
        "Installing required dependencies"
      ],
      "metadata": {
        "id": "_ONDvG7Itf6v"
      }
    },
    {
      "cell_type": "code",
      "source": [
        "!apt-get update\n",
        "!apt-get install -y swig cmake ffmpeg freeglut3-dev xvfb"
      ],
      "metadata": {
        "id": "L_TTbs_iti_T"
      },
      "execution_count": null,
      "outputs": []
    },
    {
      "cell_type": "markdown",
      "source": [
        "Installing more dependencies"
      ],
      "metadata": {
        "id": "NwPZP2e4tpJ4"
      }
    },
    {
      "cell_type": "code",
      "source": [
        "!pip install \"gymnasium[box2d]\"\n",
        "!pip install \"stable-baselines3[extra]==2.7.0\"\n",
        "!pip install \"huggingface_sb3>=3.0\"\n",
        "!pip install \"moviepy==2.2.1\""
      ],
      "metadata": {
        "id": "j9LgywG-t1n_"
      },
      "execution_count": null,
      "outputs": []
    },
    {
      "cell_type": "markdown",
      "source": [
        "Import policy, RL agent"
      ],
      "metadata": {
        "id": "EdBKFydJt6zo"
      }
    },
    {
      "cell_type": "code",
      "source": [
        "import gymnasium as gym\n",
        "\n",
        "from stable_baselines3 import DQN"
      ],
      "metadata": {
        "id": "25AcARQKt_Ro"
      },
      "execution_count": null,
      "outputs": []
    },
    {
      "cell_type": "markdown",
      "source": [
        "Create the Gym env and instantiate the agent"
      ],
      "metadata": {
        "id": "ytLHDDh6uG12"
      }
    },
    {
      "cell_type": "code",
      "source": [
        "model = DQN(\n",
        "    \"MlpPolicy\",\n",
        "    \"LunarLander-v3\",\n",
        "    verbose=1,\n",
        "    exploration_final_eps=0.1,\n",
        "    target_update_interval=250,\n",
        ")"
      ],
      "metadata": {
        "id": "qh2p-7iRuMSX"
      },
      "execution_count": null,
      "outputs": []
    },
    {
      "cell_type": "markdown",
      "source": [
        "We load a helper function to evaluate the agent:"
      ],
      "metadata": {
        "id": "iNgSFxQxuf_K"
      }
    },
    {
      "cell_type": "code",
      "source": [
        "from stable_baselines3.common.evaluation import evaluate_policy"
      ],
      "metadata": {
        "id": "1fVJQVvNug3_"
      },
      "execution_count": null,
      "outputs": []
    },
    {
      "cell_type": "markdown",
      "source": [
        "Let's evaluate the un-trained agent, this should be a random agent."
      ],
      "metadata": {
        "id": "PqMwe4c4ujWY"
      }
    },
    {
      "cell_type": "code",
      "source": [
        "# Separate env for evaluation\n",
        "eval_env = gym.make(\"LunarLander-v3\")\n",
        "\n",
        "# Random Agent, before training\n",
        "mean_reward, std_reward = evaluate_policy(\n",
        "    model,\n",
        "    eval_env,\n",
        "    n_eval_episodes=20,\n",
        "    deterministic=True,\n",
        ")\n",
        "\n",
        "print(f\"mean_reward={mean_reward:.2f} +/- {std_reward}\")"
      ],
      "metadata": {
        "id": "jLMdch3AunWe"
      },
      "execution_count": null,
      "outputs": []
    },
    {
      "cell_type": "markdown",
      "source": [
        "Train the agent and save it"
      ],
      "metadata": {
        "id": "OSWLbdabuwim"
      }
    },
    {
      "cell_type": "code",
      "source": [
        "# Train the agent\n",
        "model.learn(total_timesteps=int(1e6), log_interval=400, progress_bar=True)\n",
        "# Save the agent\n",
        "model.save(\"dqn_lunar_v3\")\n",
        "del model  # delete trained model to demonstrate loading"
      ],
      "metadata": {
        "id": "kBTuV7-lu0ce"
      },
      "execution_count": null,
      "outputs": []
    },
    {
      "cell_type": "markdown",
      "source": [
        "Load the trained agent"
      ],
      "metadata": {
        "id": "_-U_a6E9u_H2"
      }
    },
    {
      "cell_type": "code",
      "source": [
        "model = DQN.load(\"dqn_lunar_v3\")"
      ],
      "metadata": {
        "id": "FBV3wS9-vCam"
      },
      "execution_count": null,
      "outputs": []
    },
    {
      "cell_type": "code",
      "source": [
        "# Evaluate the trained agent\n",
        "mean_reward, std_reward = evaluate_policy(model, eval_env, n_eval_episodes=20, deterministic=True)\n",
        "\n",
        "print(f\"mean_reward={mean_reward:.2f} +/- {std_reward}\")"
      ],
      "metadata": {
        "id": "o_s7tWetvJ6f"
      },
      "execution_count": null,
      "outputs": []
    },
    {
      "cell_type": "markdown",
      "source": [
        "Record the video of trained agent"
      ],
      "metadata": {
        "id": "gPtZa3fAvNOW"
      }
    },
    {
      "cell_type": "code",
      "source": [
        "import os\n",
        "from stable_baselines3.common.vec_env import VecVideoRecorder, DummyVecEnv\n",
        "from IPython.display import HTML\n",
        "from base64 import b64encode\n",
        "\n",
        "env_id = \"LunarLander-v3\"\n",
        "video_folder = \"logs/videos/\"\n",
        "video_length = 6000\n",
        "os.makedirs(video_folder, exist_ok=True)\n",
        "\n",
        "# Create the base environment\n",
        "vec_env = DummyVecEnv([lambda: gym.make(env_id, render_mode=\"rgb_array\")])\n",
        "\n",
        "obs = vec_env.reset()\n",
        "\n",
        "# Record the video starting at the first step\n",
        "vec_env = VecVideoRecorder(vec_env, video_folder,\n",
        "                       record_video_trigger=lambda x: x == 0, video_length=video_length,\n",
        "                       name_prefix=f\"random-agent-{env_id}\")\n",
        "\n",
        "vec_env.reset()\n",
        "for _ in range(video_length + 1):\n",
        "  action, _state = model.predict(obs)\n",
        "  obs, _, _, _ = vec_env.step(action)\n",
        "# Save the video\n",
        "vec_env.close()\n",
        "\n",
        "mp4 = open('./logs/videos/random-agent-LunarLander-v3-step-0-to-step-6000.mp4','rb').read()\n",
        "data_url = \"data:video/mp4;base64,\" + b64encode(mp4).decode()\n",
        "HTML(\"\"\"\n",
        "<video width=400 controls>\n",
        "      <source src=\"%s\" type=\"video/mp4\">\n",
        "</video>\n",
        "\"\"\" % data_url)"
      ],
      "metadata": {
        "id": "MgWonq8_vOaw"
      },
      "execution_count": null,
      "outputs": []
    }
  ]
}